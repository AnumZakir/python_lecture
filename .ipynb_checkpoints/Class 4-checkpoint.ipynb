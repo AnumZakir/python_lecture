{
 "cells": [
  {
   "cell_type": "markdown",
   "metadata": {},
   "source": [
    "# If Statement"
   ]
  },
  {
   "cell_type": "code",
   "execution_count": 3,
   "metadata": {},
   "outputs": [
    {
     "name": "stdout",
     "output_type": "stream",
     "text": [
      "Otherwise False\n"
     ]
    }
   ],
   "source": [
    "a = 10\n",
    "b = 20\n",
    "if a > b:\n",
    "    print(\"if true\")\n",
    "else:\n",
    "    print(\"Otherwise False\")"
   ]
  },
  {
   "cell_type": "code",
   "execution_count": 4,
   "metadata": {},
   "outputs": [
    {
     "name": "stdout",
     "output_type": "stream",
     "text": [
      "You are eligible\n"
     ]
    }
   ],
   "source": [
    "age = 40\n",
    "if age >20:\n",
    "    print(\"You are eligible\")\n",
    "else:\n",
    "    print(\"You are under-age\")"
   ]
  },
  {
   "cell_type": "code",
   "execution_count": 2,
   "metadata": {},
   "outputs": [
    {
     "name": "stdout",
     "output_type": "stream",
     "text": [
      "Enter the temperature today :20\n",
      "its normal weather\n"
     ]
    }
   ],
   "source": [
    "temp = int(input(\"Enter the temperature today :\"))\n",
    "if temp > 30:\n",
    "    print(\"its hot weather today\")\n",
    "else:\n",
    "    print(\"its normal weather\")"
   ]
  },
  {
   "cell_type": "code",
   "execution_count": 7,
   "metadata": {},
   "outputs": [
    {
     "name": "stdout",
     "output_type": "stream",
     "text": [
      "do you have cnic ?yes\n",
      "Ok Come inside\n",
      "Is my name in list ?no\n",
      "Sorry , your name is not in List\n"
     ]
    }
   ],
   "source": [
    "cnic = input(\"do you have cnic ?\")\n",
    "if cnic == 'yes':\n",
    "    print(\"Ok Come inside\")\n",
    "    nameinlist = input(\"Is my name in list ?\")\n",
    "    if nameinlist == 'yes':\n",
    "        print(\"yes , you can cast your vote\")\n",
    "    else:\n",
    "        print(\"Sorry , your name is not in List\")\n",
    "else:\n",
    "    print(\"You Can't vote without cnic\")"
   ]
  },
  {
   "cell_type": "code",
   "execution_count": 31,
   "metadata": {},
   "outputs": [
    {
     "name": "stdout",
     "output_type": "stream",
     "text": [
      "Enter your marks : 30\n",
      "Your marks are 30 and your garde is Ungraded \n"
     ]
    }
   ],
   "source": [
    "marks = int(input(\"Enter your marks : \"))\n",
    "grade = \" \"\n",
    "if marks >= 90:\n",
    "    grade = \"A*\"\n",
    "elif marks >= 80:\n",
    "    grade = \"A\"\n",
    "elif marks >= 70:\n",
    "    grade = \"B\"\n",
    "elif marks >= 60:\n",
    "    grade = \"C\"\n",
    "elif marks >= 50:\n",
    "    grade = \"D\"\n",
    "else:\n",
    "    grade = \"Ungraded\"\n",
    "    \n",
    "    \n",
    "print(f\"Your marks are {marks} and your garde is {grade} \")    \n",
    "    \n",
    "    "
   ]
  },
  {
   "cell_type": "code",
   "execution_count": 28,
   "metadata": {},
   "outputs": [
    {
     "name": "stdout",
     "output_type": "stream",
     "text": [
      "Do you have Cnic ?yes\n",
      "is my name is in list ?no\n",
      "you can't vote\n"
     ]
    }
   ],
   "source": [
    "cnic = input(\"Do you have Cnic ?\")\n",
    "nameinlist = input(\"is my name is in list ?\")\n",
    "  if(cnic == 'yes') and (nameinlist == 'yes'):\n",
    "    print(\"cast your vote\")\n",
    "else:\n",
    "    print(\"you can't vote\")"
   ]
  },
  {
   "cell_type": "code",
   "execution_count": 11,
   "metadata": {},
   "outputs": [
    {
     "data": {
      "text/plain": [
       "['hajaab', 'hira', 'naima', 'Raima', 'Farah', 'Muntaha']"
      ]
     },
     "execution_count": 11,
     "metadata": {},
     "output_type": "execute_result"
    }
   ],
   "source": [
    "students = [\"asad\",\"raza\",\"hira\",\"Ogg\",\"Raima\",\"Farah\"]\n",
    "students.append(\"Muntaha\")\n",
    "students.insert(2,\"hajaab\")\n",
    "del students[0]\n",
    "students[3]=\"naima\"\n",
    "students.remove(\"raza\")\n",
    "students"
   ]
  },
  {
   "cell_type": "markdown",
   "metadata": {},
   "source": []
  },
  {
   "cell_type": "code",
   "execution_count": 12,
   "metadata": {},
   "outputs": [
    {
     "data": {
      "text/plain": [
       "['Farah', 'Ogg', 'Raima', 'asad', 'hira', 'raza']"
      ]
     },
     "execution_count": 12,
     "metadata": {},
     "output_type": "execute_result"
    }
   ],
   "source": [
    "students = [\"asad\",\"raza\",\"hira\",\"Ogg\",\"Raima\",\"Farah\"]\n",
    "students.sort()\n",
    "students"
   ]
  },
  {
   "cell_type": "code",
   "execution_count": 14,
   "metadata": {},
   "outputs": [
    {
     "data": {
      "text/plain": [
       "['raza', 'hira', 'asad', 'Raima', 'Ogg', 'Farah']"
      ]
     },
     "execution_count": 14,
     "metadata": {},
     "output_type": "execute_result"
    }
   ],
   "source": [
    "students = [\"asad\",\"raza\",\"hira\",\"Ogg\",\"Raima\",\"Farah\"]\n",
    "students.sort(reverse = True)\n",
    "students"
   ]
  },
  {
   "cell_type": "code",
   "execution_count": 15,
   "metadata": {},
   "outputs": [
    {
     "data": {
      "text/plain": [
       "[90, 27, 67, 90, 22, 87, 100, 78, 56, 99]"
      ]
     },
     "execution_count": 15,
     "metadata": {},
     "output_type": "execute_result"
    }
   ],
   "source": [
    "marks = [90,27,67,90,22,87,100,78,56,99]\n",
    "marks"
   ]
  },
  {
   "cell_type": "code",
   "execution_count": 17,
   "metadata": {},
   "outputs": [
    {
     "data": {
      "text/plain": [
       "[90, 27, 67, 90, 22, 87, 100, 78, 56, 99]"
      ]
     },
     "execution_count": 17,
     "metadata": {},
     "output_type": "execute_result"
    }
   ],
   "source": [
    "list2 = marks \n",
    "list2 \n",
    "#pass by reference\n",
    "# for copy we copy function "
   ]
  },
  {
   "cell_type": "code",
   "execution_count": 25,
   "metadata": {},
   "outputs": [
    {
     "data": {
      "text/plain": [
       "[90, 27, 67, 90, 22, 87, 100, 78, 56, 99, 78]"
      ]
     },
     "execution_count": 25,
     "metadata": {},
     "output_type": "execute_result"
    }
   ],
   "source": [
    "list2 = marks \n",
    "list2 \n",
    "list3 = list2.copy()\n",
    "list3\n",
    "\n",
    "list3.append(78)\n",
    "\n",
    "list3"
   ]
  },
  {
   "cell_type": "code",
   "execution_count": 26,
   "metadata": {},
   "outputs": [
    {
     "data": {
      "text/plain": [
       "[99, 56, 78, 100, 87, 22, 90, 67, 27, 90]"
      ]
     },
     "execution_count": 26,
     "metadata": {},
     "output_type": "execute_result"
    }
   ],
   "source": [
    "list2.reverse()\n",
    "list2"
   ]
  },
  {
   "cell_type": "code",
   "execution_count": 34,
   "metadata": {},
   "outputs": [
    {
     "name": "stdout",
     "output_type": "stream",
     "text": [
      "67\n",
      "[23, 45, 67, 87, 52, 90, 12, 87]\n"
     ]
    }
   ],
   "source": [
    "#stack\n",
    "numbers = [23,45,67,87,52,90,12,87,67]\n",
    "x = numbers.pop()\n",
    "print(x)\n",
    "print(numbers)"
   ]
  },
  {
   "cell_type": "code",
   "execution_count": 63,
   "metadata": {},
   "outputs": [],
   "source": [
    "#stack\n",
    "numbers = [23,45,67,87,52,90,12,87,67]\n",
    "numbers.append(44)"
   ]
  },
  {
   "cell_type": "code",
   "execution_count": 64,
   "metadata": {
    "scrolled": true
   },
   "outputs": [
    {
     "name": "stdout",
     "output_type": "stream",
     "text": [
      "44\n",
      "[23, 45, 67, 87, 52, 90, 12, 87, 67]\n"
     ]
    }
   ],
   "source": [
    "x = numbers.pop()\n",
    "print(x)\n",
    "print(numbers)"
   ]
  },
  {
   "cell_type": "code",
   "execution_count": 53,
   "metadata": {},
   "outputs": [],
   "source": [
    "poppedList = []"
   ]
  },
  {
   "cell_type": "code",
   "execution_count": 74,
   "metadata": {},
   "outputs": [
    {
     "name": "stdout",
     "output_type": "stream",
     "text": [
      "Your List is Empty\n"
     ]
    }
   ],
   "source": [
    "if len(numbers) != 0:\n",
    "    poppedList.append(numbers.pop())\n",
    "    print(poppedList)\n",
    "else:    \n",
    "    print(\"Your List is Empty\")"
   ]
  },
  {
   "cell_type": "code",
   "execution_count": 75,
   "metadata": {},
   "outputs": [
    {
     "data": {
      "text/plain": [
       "11"
      ]
     },
     "execution_count": 75,
     "metadata": {},
     "output_type": "execute_result"
    }
   ],
   "source": [
    "len(list3)"
   ]
  },
  {
   "cell_type": "markdown",
   "metadata": {},
   "source": [
    "# List in list"
   ]
  },
  {
   "cell_type": "code",
   "execution_count": 76,
   "metadata": {},
   "outputs": [
    {
     "data": {
      "text/plain": [
       "[29, 91, ['apple', 'banana', 'orange']]"
      ]
     },
     "execution_count": 76,
     "metadata": {},
     "output_type": "execute_result"
    }
   ],
   "source": [
    "list4 = [29,91,[\"apple\",\"banana\",\"orange\"]]\n",
    "list4"
   ]
  },
  {
   "cell_type": "code",
   "execution_count": 78,
   "metadata": {},
   "outputs": [
    {
     "data": {
      "text/plain": [
       "'banana'"
      ]
     },
     "execution_count": 78,
     "metadata": {},
     "output_type": "execute_result"
    }
   ],
   "source": [
    "list4[2][1]"
   ]
  },
  {
   "cell_type": "code",
   "execution_count": 94,
   "metadata": {},
   "outputs": [
    {
     "data": {
      "text/plain": [
       "['orange', 'peach', 'apple', 'mango']"
      ]
     },
     "execution_count": 94,
     "metadata": {},
     "output_type": "execute_result"
    }
   ],
   "source": [
    "fruits = ['orange',\"peach\",'apple','mango']\n",
    "fruits"
   ]
  },
  {
   "cell_type": "code",
   "execution_count": 95,
   "metadata": {},
   "outputs": [
    {
     "data": {
      "text/plain": [
       "['raza', 'hira', 'asad', 'Raima', 'Ogg', 'Farah']"
      ]
     },
     "execution_count": 95,
     "metadata": {},
     "output_type": "execute_result"
    }
   ],
   "source": [
    "students"
   ]
  },
  {
   "cell_type": "code",
   "execution_count": 99,
   "metadata": {},
   "outputs": [
    {
     "data": {
      "text/plain": [
       "[90,\n",
       " 56,\n",
       " 4,\n",
       " ['raza', 'hira', 'asad', 'Raima', 'Ogg', 'Farah'],\n",
       " ['orange', 'peach', 'mango'],\n",
       " 'hello']"
      ]
     },
     "execution_count": 99,
     "metadata": {},
     "output_type": "execute_result"
    }
   ],
   "source": [
    "abc = [90,56, 4,students,fruits,'hello']\n",
    "abc"
   ]
  },
  {
   "cell_type": "code",
   "execution_count": 97,
   "metadata": {},
   "outputs": [
    {
     "data": {
      "text/plain": [
       "[90,\n",
       " 56,\n",
       " 4,\n",
       " ['raza', 'hira', 'asad', 'Raima', 'Ogg', 'Farah'],\n",
       " ['orange', 'peach', 'mango'],\n",
       " 'hello']"
      ]
     },
     "execution_count": 97,
     "metadata": {},
     "output_type": "execute_result"
    }
   ],
   "source": [
    "abc[4].remove(\"apple\")\n",
    "abc"
   ]
  },
  {
   "cell_type": "code",
   "execution_count": 103,
   "metadata": {},
   "outputs": [
    {
     "data": {
      "text/plain": [
       "[90,\n",
       " 56,\n",
       " 4,\n",
       " ['raza', 'hira', 'Raima', 'Ogg', 'Farah'],\n",
       " ['orange', 'peach', 'mango'],\n",
       " 'hello']"
      ]
     },
     "execution_count": 103,
     "metadata": {},
     "output_type": "execute_result"
    }
   ],
   "source": [
    "del abc[3][2]\n",
    "abc"
   ]
  },
  {
   "cell_type": "markdown",
   "metadata": {},
   "source": [
    "# Slicing"
   ]
  },
  {
   "cell_type": "code",
   "execution_count": 106,
   "metadata": {},
   "outputs": [
    {
     "data": {
      "text/plain": [
       "[32, 45, 23, 67, 43, 89, 35, 67, 35, 99, 43]"
      ]
     },
     "execution_count": 106,
     "metadata": {},
     "output_type": "execute_result"
    }
   ],
   "source": [
    "number=[32,45,23,67,43,89,35,67,35,99,43,]\n",
    "number"
   ]
  },
  {
   "cell_type": "code",
   "execution_count": 112,
   "metadata": {},
   "outputs": [
    {
     "data": {
      "text/plain": [
       "[45, 67, 89]"
      ]
     },
     "execution_count": 112,
     "metadata": {},
     "output_type": "execute_result"
    }
   ],
   "source": [
    "number[1:6:2]  \n",
    "#last mention index is not included"
   ]
  },
  {
   "cell_type": "code",
   "execution_count": 113,
   "metadata": {},
   "outputs": [
    {
     "data": {
      "text/plain": [
       "[32, 45, 23, 67, 43, 89, 35, 67, 35]"
      ]
     },
     "execution_count": 113,
     "metadata": {},
     "output_type": "execute_result"
    }
   ],
   "source": [
    "number[:9]"
   ]
  },
  {
   "cell_type": "code",
   "execution_count": 114,
   "metadata": {},
   "outputs": [
    {
     "data": {
      "text/plain": [
       "[45, 23, 67, 43, 89, 35, 67, 35, 99, 43]"
      ]
     },
     "execution_count": 114,
     "metadata": {},
     "output_type": "execute_result"
    }
   ],
   "source": [
    "number[1:]"
   ]
  },
  {
   "cell_type": "code",
   "execution_count": 116,
   "metadata": {},
   "outputs": [
    {
     "data": {
      "text/plain": [
       "[32, 45, 23, 67, 43, 89, 35, 67, 35, 99, 43]"
      ]
     },
     "execution_count": 116,
     "metadata": {},
     "output_type": "execute_result"
    }
   ],
   "source": [
    "number[:]"
   ]
  },
  {
   "cell_type": "code",
   "execution_count": 117,
   "metadata": {},
   "outputs": [
    {
     "data": {
      "text/plain": [
       "[32, 23, 43, 35, 35, 43]"
      ]
     },
     "execution_count": 117,
     "metadata": {},
     "output_type": "execute_result"
    }
   ],
   "source": [
    "number[::2]"
   ]
  },
  {
   "cell_type": "code",
   "execution_count": 120,
   "metadata": {},
   "outputs": [
    {
     "data": {
      "text/plain": [
       "[43, 99, 35, 67, 35, 89, 43, 67]"
      ]
     },
     "execution_count": 120,
     "metadata": {},
     "output_type": "execute_result"
    }
   ],
   "source": [
    "number[-1:-9:-1]  #left to ryt slicing , step negative"
   ]
  },
  {
   "cell_type": "code",
   "execution_count": null,
   "metadata": {},
   "outputs": [],
   "source": []
  }
 ],
 "metadata": {
  "kernelspec": {
   "display_name": "Python 3",
   "language": "python",
   "name": "python3"
  },
  "language_info": {
   "codemirror_mode": {
    "name": "ipython",
    "version": 3
   },
   "file_extension": ".py",
   "mimetype": "text/x-python",
   "name": "python",
   "nbconvert_exporter": "python",
   "pygments_lexer": "ipython3",
   "version": "3.7.3"
  }
 },
 "nbformat": 4,
 "nbformat_minor": 2
}
