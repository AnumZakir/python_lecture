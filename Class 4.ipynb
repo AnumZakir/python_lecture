{
 "cells": [
  {
   "cell_type": "markdown",
   "metadata": {},
   "source": [
    "# If Statement"
   ]
  },
  {
   "cell_type": "code",
   "execution_count": 3,
   "metadata": {},
   "outputs": [
    {
     "name": "stdout",
     "output_type": "stream",
     "text": [
      "Otherwise False\n"
     ]
    }
   ],
   "source": [
    "a = 10\n",
    "b = 20\n",
    "if a > b:\n",
    "    print(\"if true\")\n",
    "else:\n",
    "    print(\"Otherwise False\")"
   ]
  },
  {
   "cell_type": "code",
   "execution_count": 4,
   "metadata": {},
   "outputs": [
    {
     "name": "stdout",
     "output_type": "stream",
     "text": [
      "You are eligible\n"
     ]
    }
   ],
   "source": [
    "age = 40\n",
    "if age >20:\n",
    "    print(\"You are eligible\")\n",
    "else:\n",
    "    print(\"You are under-age\")"
   ]
  },
  {
   "cell_type": "code",
   "execution_count": 2,
   "metadata": {},
   "outputs": [
    {
     "name": "stdout",
     "output_type": "stream",
     "text": [
      "Enter the temperature today :20\n",
      "its normal weather\n"
     ]
    }
   ],
   "source": [
    "temp = int(input(\"Enter the temperature today :\"))\n",
    "if temp > 30:\n",
    "    print(\"its hot weather today\")\n",
    "else:\n",
    "    print(\"its normal weather\")"
   ]
  },
  {
   "cell_type": "code",
   "execution_count": 7,
   "metadata": {},
   "outputs": [
    {
     "name": "stdout",
     "output_type": "stream",
     "text": [
      "do you have cnic ?yes\n",
      "Ok Come inside\n",
      "Is my name in list ?no\n",
      "Sorry , your name is not in List\n"
     ]
    }
   ],
   "source": [
    "cnic = input(\"do you have cnic ?\")\n",
    "if cnic == 'yes':\n",
    "    print(\"Ok Come inside\")\n",
    "    nameinlist = input(\"Is my name in list ?\")\n",
    "    if nameinlist == 'yes':\n",
    "        print(\"yes , you can cast your vote\")\n",
    "    else:\n",
    "        print(\"Sorry , your name is not in List\")\n",
    "else:\n",
    "    print(\"You Can't vote without cnic\")"
   ]
  },
  {
   "cell_type": "code",
   "execution_count": 31,
   "metadata": {},
   "outputs": [
    {
     "name": "stdout",
     "output_type": "stream",
     "text": [
      "Enter your marks : 30\n",
      "Your marks are 30 and your garde is Ungraded \n"
     ]
    }
   ],
   "source": [
    "marks = int(input(\"Enter your marks : \"))\n",
    "grade = \" \"\n",
    "if marks >= 90:\n",
    "    grade = \"A*\"\n",
    "elif marks >= 80:\n",
    "    grade = \"A\"\n",
    "elif marks >= 70:\n",
    "    grade = \"B\"\n",
    "elif marks >= 60:\n",
    "    grade = \"C\"\n",
    "elif marks >= 50:\n",
    "    grade = \"D\"\n",
    "else:\n",
    "    grade = \"Ungraded\"\n",
    "    \n",
    "    \n",
    "print(f\"Your marks are {marks} and your garde is {grade} \")    \n",
    "    \n",
    "    "
   ]
  },
  {
   "cell_type": "code",
   "execution_count": 28,
   "metadata": {},
   "outputs": [
    {
     "name": "stdout",
     "output_type": "stream",
     "text": [
      "Do you have Cnic ?yes\n",
      "is my name is in list ?no\n",
      "you can't vote\n"
     ]
    }
   ],
   "source": [
    "cnic = input(\"Do you have Cnic ?\")\n",
    "nameinlist = input(\"is my name is in list ?\")\n",
    "  if(cnic == 'yes') and (nameinlist == 'yes'):\n",
    "    print(\"cast your vote\")\n",
    "else:\n",
    "    print(\"you can't vote\")"
   ]
  },
  {
   "cell_type": "code",
   "execution_count": 11,
   "metadata": {},
   "outputs": [
    {
     "data": {
      "text/plain": [
       "['hajaab', 'hira', 'naima', 'Raima', 'Farah', 'Muntaha']"
      ]
     },
     "execution_count": 11,
     "metadata": {},
     "output_type": "execute_result"
    }
   ],
   "source": [
    "students = [\"asad\",\"raza\",\"hira\",\"Ogg\",\"Raima\",\"Farah\"]\n",
    "students.append(\"Muntaha\")\n",
    "students.insert(2,\"hajaab\")\n",
    "del students[0]\n",
    "students[3]=\"naima\"\n",
    "students.remove(\"raza\")\n",
    "students"
   ]
  },
  {
   "cell_type": "markdown",
   "metadata": {},
   "source": []
  },
  {
   "cell_type": "code",
   "execution_count": 12,
   "metadata": {},
   "outputs": [
    {
     "data": {
      "text/plain": [
       "['Farah', 'Ogg', 'Raima', 'asad', 'hira', 'raza']"
      ]
     },
     "execution_count": 12,
     "metadata": {},
     "output_type": "execute_result"
    }
   ],
   "source": [
    "students = [\"asad\",\"raza\",\"hira\",\"Ogg\",\"Raima\",\"Farah\"]\n",
    "students.sort()\n",
    "students"
   ]
  },
  {
   "cell_type": "code",
   "execution_count": 14,
   "metadata": {},
   "outputs": [
    {
     "data": {
      "text/plain": [
       "['raza', 'hira', 'asad', 'Raima', 'Ogg', 'Farah']"
      ]
     },
     "execution_count": 14,
     "metadata": {},
     "output_type": "execute_result"
    }
   ],
   "source": [
    "students = [\"asad\",\"raza\",\"hira\",\"Ogg\",\"Raima\",\"Farah\"]\n",
    "students.sort(reverse = True)\n",
    "students"
   ]
  },
  {
   "cell_type": "code",
   "execution_count": 15,
   "metadata": {},
   "outputs": [
    {
     "data": {
      "text/plain": [
       "[90, 27, 67, 90, 22, 87, 100, 78, 56, 99]"
      ]
     },
     "execution_count": 15,
     "metadata": {},
     "output_type": "execute_result"
    }
   ],
   "source": [
    "marks = [90,27,67,90,22,87,100,78,56,99]\n",
    "marks"
   ]
  },
  {
   "cell_type": "code",
   "execution_count": 17,
   "metadata": {},
   "outputs": [
    {
     "data": {
      "text/plain": [
       "[90, 27, 67, 90, 22, 87, 100, 78, 56, 99]"
      ]
     },
     "execution_count": 17,
     "metadata": {},
     "output_type": "execute_result"
    }
   ],
   "source": [
    "list2 = marks \n",
    "list2 \n",
    "#pass by reference\n",
    "# for copy we copy function "
   ]
  },
  {
   "cell_type": "code",
   "execution_count": 25,
   "metadata": {},
   "outputs": [
    {
     "data": {
      "text/plain": [
       "[90, 27, 67, 90, 22, 87, 100, 78, 56, 99, 78]"
      ]
     },
     "execution_count": 25,
     "metadata": {},
     "output_type": "execute_result"
    }
   ],
   "source": [
    "list2 = marks \n",
    "list2 \n",
    "list3 = list2.copy()\n",
    "list3\n",
    "\n",
    "list3.append(78)\n",
    "\n",
    "list3"
   ]
  },
  {
   "cell_type": "code",
   "execution_count": 26,
   "metadata": {},
   "outputs": [
    {
     "data": {
      "text/plain": [
       "[99, 56, 78, 100, 87, 22, 90, 67, 27, 90]"
      ]
     },
     "execution_count": 26,
     "metadata": {},
     "output_type": "execute_result"
    }
   ],
   "source": [
    "list2.reverse()\n",
    "list2"
   ]
  },
  {
   "cell_type": "code",
   "execution_count": 34,
   "metadata": {},
   "outputs": [
    {
     "name": "stdout",
     "output_type": "stream",
     "text": [
      "67\n",
      "[23, 45, 67, 87, 52, 90, 12, 87]\n"
     ]
    }
   ],
   "source": [
    "#stack\n",
    "numbers = [23,45,67,87,52,90,12,87,67]\n",
    "x = numbers.pop()\n",
    "print(x)\n",
    "print(numbers)"
   ]
  },
  {
   "cell_type": "code",
   "execution_count": 63,
   "metadata": {},
   "outputs": [],
   "source": [
    "#stack\n",
    "numbers = [23,45,67,87,52,90,12,87,67]\n",
    "numbers.append(44)"
   ]
  },
  {
   "cell_type": "code",
   "execution_count": 64,
   "metadata": {
    "scrolled": true
   },
   "outputs": [
    {
     "name": "stdout",
     "output_type": "stream",
     "text": [
      "44\n",
      "[23, 45, 67, 87, 52, 90, 12, 87, 67]\n"
     ]
    }
   ],
   "source": [
    "x = numbers.pop()\n",
    "print(x)\n",
    "print(numbers)"
   ]
  },
  {
   "cell_type": "code",
   "execution_count": 53,
   "metadata": {},
   "outputs": [],
   "source": [
    "poppedList = []"
   ]
  },
  {
   "cell_type": "code",
   "execution_count": 74,
   "metadata": {},
   "outputs": [
    {
     "name": "stdout",
     "output_type": "stream",
     "text": [
      "Your List is Empty\n"
     ]
    }
   ],
   "source": [
    "if len(numbers) != 0:\n",
    "    poppedList.append(numbers.pop())\n",
    "    print(poppedList)\n",
    "else:    \n",
    "    print(\"Your List is Empty\")"
   ]
  },
  {
   "cell_type": "code",
   "execution_count": 75,
   "metadata": {},
   "outputs": [
    {
     "data": {
      "text/plain": [
       "11"
      ]
     },
     "execution_count": 75,
     "metadata": {},
     "output_type": "execute_result"
    }
   ],
   "source": [
    "len(list3)"
   ]
  },
  {
   "cell_type": "markdown",
   "metadata": {},
   "source": [
    "# List in list"
   ]
  },
  {
   "cell_type": "code",
   "execution_count": 76,
   "metadata": {},
   "outputs": [
    {
     "data": {
      "text/plain": [
       "[29, 91, ['apple', 'banana', 'orange']]"
      ]
     },
     "execution_count": 76,
     "metadata": {},
     "output_type": "execute_result"
    }
   ],
   "source": [
    "list4 = [29,91,[\"apple\",\"banana\",\"orange\"]]\n",
    "list4"
   ]
  },
  {
   "cell_type": "code",
   "execution_count": 78,
   "metadata": {},
   "outputs": [
    {
     "data": {
      "text/plain": [
       "'banana'"
      ]
     },
     "execution_count": 78,
     "metadata": {},
     "output_type": "execute_result"
    }
   ],
   "source": [
    "list4[2][1]"
   ]
  },
  {
   "cell_type": "code",
   "execution_count": 94,
   "metadata": {},
   "outputs": [
    {
     "data": {
      "text/plain": [
       "['orange', 'peach', 'apple', 'mango']"
      ]
     },
     "execution_count": 94,
     "metadata": {},
     "output_type": "execute_result"
    }
   ],
   "source": [
    "fruits = ['orange',\"peach\",'apple','mango']\n",
    "fruits"
   ]
  },
  {
   "cell_type": "code",
   "execution_count": 95,
   "metadata": {},
   "outputs": [
    {
     "data": {
      "text/plain": [
       "['raza', 'hira', 'asad', 'Raima', 'Ogg', 'Farah']"
      ]
     },
     "execution_count": 95,
     "metadata": {},
     "output_type": "execute_result"
    }
   ],
   "source": [
    "students"
   ]
  },
  {
   "cell_type": "code",
   "execution_count": 99,
   "metadata": {},
   "outputs": [
    {
     "data": {
      "text/plain": [
       "[90,\n",
       " 56,\n",
       " 4,\n",
       " ['raza', 'hira', 'asad', 'Raima', 'Ogg', 'Farah'],\n",
       " ['orange', 'peach', 'mango'],\n",
       " 'hello']"
      ]
     },
     "execution_count": 99,
     "metadata": {},
     "output_type": "execute_result"
    }
   ],
   "source": [
    "abc = [90,56, 4,students,fruits,'hello']\n",
    "abc"
   ]
  },
  {
   "cell_type": "code",
   "execution_count": 97,
   "metadata": {},
   "outputs": [
    {
     "data": {
      "text/plain": [
       "[90,\n",
       " 56,\n",
       " 4,\n",
       " ['raza', 'hira', 'asad', 'Raima', 'Ogg', 'Farah'],\n",
       " ['orange', 'peach', 'mango'],\n",
       " 'hello']"
      ]
     },
     "execution_count": 97,
     "metadata": {},
     "output_type": "execute_result"
    }
   ],
   "source": [
    "abc[4].remove(\"apple\")\n",
    "abc"
   ]
  },
  {
   "cell_type": "code",
   "execution_count": 103,
   "metadata": {},
   "outputs": [
    {
     "data": {
      "text/plain": [
       "[90,\n",
       " 56,\n",
       " 4,\n",
       " ['raza', 'hira', 'Raima', 'Ogg', 'Farah'],\n",
       " ['orange', 'peach', 'mango'],\n",
       " 'hello']"
      ]
     },
     "execution_count": 103,
     "metadata": {},
     "output_type": "execute_result"
    }
   ],
   "source": [
    "del abc[3][2]\n",
    "abc"
   ]
  },
  {
   "cell_type": "markdown",
   "metadata": {},
   "source": [
    "# Slicing"
   ]
  },
  {
   "cell_type": "code",
   "execution_count": 106,
   "metadata": {},
   "outputs": [
    {
     "data": {
      "text/plain": [
       "[32, 45, 23, 67, 43, 89, 35, 67, 35, 99, 43]"
      ]
     },
     "execution_count": 106,
     "metadata": {},
     "output_type": "execute_result"
    }
   ],
   "source": [
    "number=[32,45,23,67,43,89,35,67,35,99,43,]\n",
    "number"
   ]
  },
  {
   "cell_type": "code",
   "execution_count": 112,
   "metadata": {},
   "outputs": [
    {
     "data": {
      "text/plain": [
       "[45, 67, 89]"
      ]
     },
     "execution_count": 112,
     "metadata": {},
     "output_type": "execute_result"
    }
   ],
   "source": [
    "number[1:6:2]  \n",
    "#last mention index is not included"
   ]
  },
  {
   "cell_type": "code",
   "execution_count": 113,
   "metadata": {},
   "outputs": [
    {
     "data": {
      "text/plain": [
       "[32, 45, 23, 67, 43, 89, 35, 67, 35]"
      ]
     },
     "execution_count": 113,
     "metadata": {},
     "output_type": "execute_result"
    }
   ],
   "source": [
    "number[:9]\n",
    "#slicing is usually left to ryt"
   ]
  },
  {
   "cell_type": "code",
   "execution_count": 114,
   "metadata": {},
   "outputs": [
    {
     "data": {
      "text/plain": [
       "[45, 23, 67, 43, 89, 35, 67, 35, 99, 43]"
      ]
     },
     "execution_count": 114,
     "metadata": {},
     "output_type": "execute_result"
    }
   ],
   "source": [
    "number[1:]"
   ]
  },
  {
   "cell_type": "code",
   "execution_count": 116,
   "metadata": {},
   "outputs": [
    {
     "data": {
      "text/plain": [
       "[32, 45, 23, 67, 43, 89, 35, 67, 35, 99, 43]"
      ]
     },
     "execution_count": 116,
     "metadata": {},
     "output_type": "execute_result"
    }
   ],
   "source": [
    "number[:]"
   ]
  },
  {
   "cell_type": "code",
   "execution_count": 117,
   "metadata": {},
   "outputs": [
    {
     "data": {
      "text/plain": [
       "[32, 23, 43, 35, 35, 43]"
      ]
     },
     "execution_count": 117,
     "metadata": {},
     "output_type": "execute_result"
    }
   ],
   "source": [
    "number[::2]"
   ]
  },
  {
   "cell_type": "code",
   "execution_count": 120,
   "metadata": {},
   "outputs": [
    {
     "data": {
      "text/plain": [
       "[43, 99, 35, 67, 35, 89, 43, 67]"
      ]
     },
     "execution_count": 120,
     "metadata": {},
     "output_type": "execute_result"
    }
   ],
   "source": [
    "number[-1:-9:-1]  #ryt to left slicing , step negative"
   ]
  },
  {
   "cell_type": "markdown",
   "metadata": {},
   "source": [
    "# Tupples"
   ]
  },
  {
   "cell_type": "code",
   "execution_count": 1,
   "metadata": {},
   "outputs": [],
   "source": [
    "#tuples and list are almost same but singlle difference is tuple is immutable\n",
    "# all slicing rules can apply on tuple\n",
    "tuple0 = (3,4,6,9,3,0,2,9)"
   ]
  },
  {
   "cell_type": "code",
   "execution_count": 2,
   "metadata": {},
   "outputs": [
    {
     "data": {
      "text/plain": [
       "tuple"
      ]
     },
     "execution_count": 2,
     "metadata": {},
     "output_type": "execute_result"
    }
   ],
   "source": [
    "type(tuple0)"
   ]
  },
  {
   "cell_type": "code",
   "execution_count": 3,
   "metadata": {},
   "outputs": [
    {
     "data": {
      "text/plain": [
       "8"
      ]
     },
     "execution_count": 3,
     "metadata": {},
     "output_type": "execute_result"
    }
   ],
   "source": [
    "len(tuple0)"
   ]
  },
  {
   "cell_type": "code",
   "execution_count": 5,
   "metadata": {},
   "outputs": [
    {
     "data": {
      "text/plain": [
       "0"
      ]
     },
     "execution_count": 5,
     "metadata": {},
     "output_type": "execute_result"
    }
   ],
   "source": [
    "tuple0[5]"
   ]
  },
  {
   "cell_type": "code",
   "execution_count": 6,
   "metadata": {},
   "outputs": [
    {
     "data": {
      "text/plain": [
       "(4, 6, 9, 3)"
      ]
     },
     "execution_count": 6,
     "metadata": {},
     "output_type": "execute_result"
    }
   ],
   "source": [
    "tuple0[1:5]"
   ]
  },
  {
   "cell_type": "code",
   "execution_count": 7,
   "metadata": {},
   "outputs": [
    {
     "data": {
      "text/plain": [
       "(3, 4, 6, 9, 3, 0, 2, 9)"
      ]
     },
     "execution_count": 7,
     "metadata": {},
     "output_type": "execute_result"
    }
   ],
   "source": [
    "tuple0[::]"
   ]
  },
  {
   "cell_type": "code",
   "execution_count": 8,
   "metadata": {},
   "outputs": [
    {
     "data": {
      "text/plain": [
       "(3, 4, 6, 9, 3, 0, 2, 9)"
      ]
     },
     "execution_count": 8,
     "metadata": {},
     "output_type": "execute_result"
    }
   ],
   "source": [
    "tuple0[0:]"
   ]
  },
  {
   "cell_type": "code",
   "execution_count": 9,
   "metadata": {},
   "outputs": [
    {
     "data": {
      "text/plain": [
       "(9, 3, 0, 2, 9)"
      ]
     },
     "execution_count": 9,
     "metadata": {},
     "output_type": "execute_result"
    }
   ],
   "source": [
    "tuple0[3:]"
   ]
  },
  {
   "cell_type": "code",
   "execution_count": 10,
   "metadata": {},
   "outputs": [
    {
     "data": {
      "text/plain": [
       "(3, 6, 3, 2)"
      ]
     },
     "execution_count": 10,
     "metadata": {},
     "output_type": "execute_result"
    }
   ],
   "source": [
    "tuple0[0:8:2]"
   ]
  },
  {
   "cell_type": "code",
   "execution_count": 11,
   "metadata": {},
   "outputs": [],
   "source": [
    "#packing and unpacking in list and tuple"
   ]
  },
  {
   "cell_type": "code",
   "execution_count": 12,
   "metadata": {},
   "outputs": [],
   "source": [
    "a = (\"hira\",\"anum\",\"ogg\",\"raima\") #packing"
   ]
  },
  {
   "cell_type": "code",
   "execution_count": 13,
   "metadata": {},
   "outputs": [],
   "source": [
    "w,x,y,z = a #unpacking"
   ]
  },
  {
   "cell_type": "code",
   "execution_count": 14,
   "metadata": {},
   "outputs": [
    {
     "data": {
      "text/plain": [
       "'hira'"
      ]
     },
     "execution_count": 14,
     "metadata": {},
     "output_type": "execute_result"
    }
   ],
   "source": [
    "w"
   ]
  },
  {
   "cell_type": "code",
   "execution_count": 15,
   "metadata": {},
   "outputs": [
    {
     "data": {
      "text/plain": [
       "'anum'"
      ]
     },
     "execution_count": 15,
     "metadata": {},
     "output_type": "execute_result"
    }
   ],
   "source": [
    "x"
   ]
  },
  {
   "cell_type": "code",
   "execution_count": 16,
   "metadata": {},
   "outputs": [
    {
     "data": {
      "text/plain": [
       "'ogg'"
      ]
     },
     "execution_count": 16,
     "metadata": {},
     "output_type": "execute_result"
    }
   ],
   "source": [
    "y"
   ]
  },
  {
   "cell_type": "code",
   "execution_count": 17,
   "metadata": {},
   "outputs": [
    {
     "data": {
      "text/plain": [
       "'raima'"
      ]
     },
     "execution_count": 17,
     "metadata": {},
     "output_type": "execute_result"
    }
   ],
   "source": [
    "z"
   ]
  },
  {
   "cell_type": "code",
   "execution_count": 20,
   "metadata": {},
   "outputs": [],
   "source": [
    "rectangle= [100,300] #list packing"
   ]
  },
  {
   "cell_type": "code",
   "execution_count": 21,
   "metadata": {},
   "outputs": [],
   "source": [
    "height, width =  rectangle #list unpacking"
   ]
  },
  {
   "cell_type": "code",
   "execution_count": 22,
   "metadata": {},
   "outputs": [
    {
     "data": {
      "text/plain": [
       "100"
      ]
     },
     "execution_count": 22,
     "metadata": {},
     "output_type": "execute_result"
    }
   ],
   "source": [
    "height"
   ]
  },
  {
   "cell_type": "code",
   "execution_count": 23,
   "metadata": {},
   "outputs": [
    {
     "data": {
      "text/plain": [
       "300"
      ]
     },
     "execution_count": 23,
     "metadata": {},
     "output_type": "execute_result"
    }
   ],
   "source": [
    "width"
   ]
  },
  {
   "cell_type": "markdown",
   "metadata": {},
   "source": [
    "# For Loop"
   ]
  },
  {
   "cell_type": "code",
   "execution_count": 30,
   "metadata": {},
   "outputs": [
    {
     "name": "stdout",
     "output_type": "stream",
     "text": [
      "anum\n",
      "anum\n",
      "anum\n",
      "anum\n",
      "anum\n"
     ]
    }
   ],
   "source": [
    "# task :print your name ten time\n",
    "for i in range(5):\n",
    "    print(\"anum\")"
   ]
  },
  {
   "cell_type": "code",
   "execution_count": 31,
   "metadata": {},
   "outputs": [
    {
     "name": "stdout",
     "output_type": "stream",
     "text": [
      "2 Hira\n",
      "3 Hira\n",
      "4 Hira\n"
     ]
    }
   ],
   "source": [
    "for i  in range(2,5): # start range or last range\n",
    "    print(i,\"Hira\")"
   ]
  },
  {
   "cell_type": "code",
   "execution_count": 32,
   "metadata": {},
   "outputs": [
    {
     "name": "stdout",
     "output_type": "stream",
     "text": [
      "1 Hira\n",
      "3 Hira\n",
      "5 Hira\n",
      "7 Hira\n",
      "9 Hira\n"
     ]
    }
   ],
   "source": [
    "for i  in range(1,10,2):\n",
    "    print(i,\"Hira\")"
   ]
  },
  {
   "cell_type": "code",
   "execution_count": 33,
   "metadata": {},
   "outputs": [
    {
     "name": "stdout",
     "output_type": "stream",
     "text": [
      "0 Hira\n",
      "2 Hira\n",
      "4 Hira\n",
      "6 Hira\n",
      "8 Hira\n"
     ]
    }
   ],
   "source": [
    "for i  in range(0,10,2):\n",
    "    print(i,\"Hira\")"
   ]
  },
  {
   "cell_type": "code",
   "execution_count": 34,
   "metadata": {},
   "outputs": [
    {
     "name": "stdout",
     "output_type": "stream",
     "text": [
      "10 Hira\n",
      "8 Hira\n",
      "6 Hira\n",
      "4 Hira\n",
      "2 Hira\n"
     ]
    }
   ],
   "source": [
    "for i  in range(10,1,-2):\n",
    "    print(i,\"Hira\")"
   ]
  },
  {
   "cell_type": "code",
   "execution_count": 35,
   "metadata": {},
   "outputs": [
    {
     "name": "stdout",
     "output_type": "stream",
     "text": [
      "Hira\n",
      "Anum\n",
      "ogg\n",
      "Raima\n"
     ]
    }
   ],
   "source": [
    "my_list = [\"Hira\",\"Anum\",\"ogg\",\"Raima\"]\n",
    "for i in my_list:\n",
    "    print(i)"
   ]
  },
  {
   "cell_type": "code",
   "execution_count": 41,
   "metadata": {},
   "outputs": [
    {
     "name": "stdout",
     "output_type": "stream",
     "text": [
      "[4, 6, 10, 12, 14, 16, 16, 6, 8, 2]\n"
     ]
    }
   ],
   "source": [
    "num_list = [2,3,5,6,7,8,8,3,4,1]\n",
    "num1= []\n",
    "for i in num_list:\n",
    "     num1.append(i*2)\n",
    "print(num1)        \n",
    "        \n",
    "    "
   ]
  },
  {
   "cell_type": "code",
   "execution_count": 49,
   "metadata": {},
   "outputs": [
    {
     "name": "stdout",
     "output_type": "stream",
     "text": [
      "0\n",
      "1\n",
      "2\n",
      "3\n",
      "6\n",
      "4\n",
      "5\n"
     ]
    }
   ],
   "source": [
    "for i in range(6):\n",
    "    print(i)\n",
    "    if i == 3:\n",
    "        print(i*2)"
   ]
  },
  {
   "cell_type": "code",
   "execution_count": null,
   "metadata": {},
   "outputs": [],
   "source": [
    "#BREAK\n",
    "#continue: at particular condition loop execute nhe hoga\n",
    "#pass"
   ]
  },
  {
   "cell_type": "code",
   "execution_count": 54,
   "metadata": {},
   "outputs": [
    {
     "name": "stdout",
     "output_type": "stream",
     "text": [
      "0\n",
      "1\n",
      "2\n",
      "4\n",
      "5\n",
      "6\n",
      "7\n",
      "8\n"
     ]
    }
   ],
   "source": [
    "for i in range(9):\n",
    "    if(i == 3):\n",
    "        continue\n",
    "    print(i)"
   ]
  },
  {
   "cell_type": "code",
   "execution_count": 58,
   "metadata": {},
   "outputs": [],
   "source": [
    "for i in range(9):\n",
    "    pass\n",
    "   \n",
    "         "
   ]
  },
  {
   "cell_type": "code",
   "execution_count": 68,
   "metadata": {},
   "outputs": [
    {
     "name": "stdout",
     "output_type": "stream",
     "text": [
      "Enter a number7\n",
      "7*1= 7\n",
      "7*2= 14\n",
      "7*3= 21\n",
      "7*4= 28\n",
      "7*5= 35\n",
      "7*6= 42\n",
      "7*7= 49\n",
      "7*8= 56\n",
      "7*9= 63\n",
      "7*10= 70\n"
     ]
    }
   ],
   "source": [
    "num = int(input(\"Enter a number\"))\n",
    "for i in range(1,11):\n",
    "    print(str(num) +\"*\"+str(i)+\"=\",num*i)"
   ]
  },
  {
   "cell_type": "code",
   "execution_count": 78,
   "metadata": {},
   "outputs": [
    {
     "name": "stdout",
     "output_type": "stream",
     "text": [
      "P 0\n",
      "P 1\n",
      "P 2\n",
      "A 0\n",
      "A 1\n",
      "A 2\n",
      "K 0\n",
      "K 1\n",
      "K 2\n",
      "I 0\n",
      "I 1\n",
      "I 2\n",
      "S 0\n",
      "S 1\n",
      "S 2\n",
      "T 0\n",
      "T 1\n",
      "T 2\n",
      "A 0\n",
      "A 1\n",
      "A 2\n",
      "N 0\n",
      "N 1\n",
      "N 2\n"
     ]
    }
   ],
   "source": [
    "for i in \"PAKISTAN\":\n",
    "    for j in range(3):\n",
    "        print(i,j)"
   ]
  },
  {
   "cell_type": "code",
   "execution_count": 92,
   "metadata": {},
   "outputs": [
    {
     "data": {
      "text/plain": [
       "['Hira Ahmed',\n",
       " 'Hira zakir',\n",
       " 'Hira baby',\n",
       " 'Hira nazz',\n",
       " 'Anum Ahmed',\n",
       " 'Anum zakir',\n",
       " 'Anum baby',\n",
       " 'Anum nazz',\n",
       " 'ogg Ahmed',\n",
       " 'ogg zakir',\n",
       " 'ogg baby',\n",
       " 'ogg nazz',\n",
       " 'Raima Ahmed',\n",
       " 'Raima zakir',\n",
       " 'Raima baby',\n",
       " 'Raima nazz']"
      ]
     },
     "execution_count": 92,
     "metadata": {},
     "output_type": "execute_result"
    }
   ],
   "source": [
    "f_name= [\"Hira\",\"Anum\",\"ogg\",\"Raima\"]\n",
    "l_name =[\"Ahmed\",\"zakir\",\"baby\",\"naz\"]\n",
    "full_name= []\n",
    "for x in f_name:\n",
    "    for y in l_name:\n",
    "        full_name.append(x +\" \"+ y)\n",
    "full_name"
   ]
  },
  {
   "cell_type": "code",
   "execution_count": 97,
   "metadata": {},
   "outputs": [
    {
     "data": {
      "text/plain": [
       "'ANUM'"
      ]
     },
     "execution_count": 97,
     "metadata": {},
     "output_type": "execute_result"
    }
   ],
   "source": [
    "#change case\n",
    "\"Anum\".upper()"
   ]
  },
  {
   "cell_type": "code",
   "execution_count": 98,
   "metadata": {},
   "outputs": [
    {
     "data": {
      "text/plain": [
       "17"
      ]
     },
     "execution_count": 98,
     "metadata": {},
     "output_type": "execute_result"
    }
   ],
   "source": [
    "sl_str=\"PAKISTAN ZINDABAD\"\n",
    "len(sl_str)"
   ]
  },
  {
   "cell_type": "code",
   "execution_count": 99,
   "metadata": {},
   "outputs": [
    {
     "data": {
      "text/plain": [
       "'PAKIS'"
      ]
     },
     "execution_count": 99,
     "metadata": {},
     "output_type": "execute_result"
    }
   ],
   "source": [
    "sl_str[:5]"
   ]
  },
  {
   "cell_type": "code",
   "execution_count": 100,
   "metadata": {},
   "outputs": [
    {
     "data": {
      "text/plain": [
       "'PAKISTAN ZINDABAD'"
      ]
     },
     "execution_count": 100,
     "metadata": {},
     "output_type": "execute_result"
    }
   ],
   "source": [
    "sl_str[::]"
   ]
  },
  {
   "cell_type": "markdown",
   "metadata": {},
   "source": [
    "\n",
    "# Dictionary"
   ]
  },
  {
   "cell_type": "code",
   "execution_count": 101,
   "metadata": {},
   "outputs": [
    {
     "data": {
      "text/plain": [
       "dict"
      ]
     },
     "execution_count": 101,
     "metadata": {},
     "output_type": "execute_result"
    }
   ],
   "source": [
    "#dictionary works on key value pair\n",
    "\n",
    "adict = {}\n",
    "type(adict)"
   ]
  },
  {
   "cell_type": "code",
   "execution_count": 102,
   "metadata": {},
   "outputs": [
    {
     "data": {
      "text/plain": [
       "0"
      ]
     },
     "execution_count": 102,
     "metadata": {},
     "output_type": "execute_result"
    }
   ],
   "source": [
    "len(adict)"
   ]
  },
  {
   "cell_type": "code",
   "execution_count": 117,
   "metadata": {},
   "outputs": [],
   "source": [
    "#adding values to a dictionary\n",
    "adict[\"name\"] = \"Hira\",\"Raima\"\n",
    "adict[\"Age\"] = 22,24\n",
    "adict[\"Contact_no\"]=\"243793021\",\"6373423\""
   ]
  },
  {
   "cell_type": "code",
   "execution_count": 123,
   "metadata": {},
   "outputs": [
    {
     "data": {
      "text/plain": [
       "{'name': ('Hira', 'Raima'), 'Contact_no': ('243793021', '6373423')}"
      ]
     },
     "execution_count": 123,
     "metadata": {},
     "output_type": "execute_result"
    }
   ],
   "source": [
    "adict"
   ]
  },
  {
   "cell_type": "code",
   "execution_count": 134,
   "metadata": {},
   "outputs": [
    {
     "ename": "TypeError",
     "evalue": "'tuple' object doesn't support item deletion",
     "output_type": "error",
     "traceback": [
      "\u001b[1;31m---------------------------------------------------------------------------\u001b[0m",
      "\u001b[1;31mTypeError\u001b[0m                                 Traceback (most recent call last)",
      "\u001b[1;32m<ipython-input-134-f84b0424b611>\u001b[0m in \u001b[0;36m<module>\u001b[1;34m\u001b[0m\n\u001b[1;32m----> 1\u001b[1;33m \u001b[1;32mdel\u001b[0m \u001b[0madict\u001b[0m\u001b[1;33m[\u001b[0m\u001b[1;34m\"name\"\u001b[0m\u001b[1;33m]\u001b[0m\u001b[1;33m[\u001b[0m\u001b[1;36m1\u001b[0m\u001b[1;33m]\u001b[0m\u001b[1;33m\u001b[0m\u001b[1;33m\u001b[0m\u001b[0m\n\u001b[0m",
      "\u001b[1;31mTypeError\u001b[0m: 'tuple' object doesn't support item deletion"
     ]
    }
   ],
   "source": [
    "del adict[\"name\"][1]\\"
   ]
  },
  {
   "cell_type": "code",
   "execution_count": 136,
   "metadata": {},
   "outputs": [],
   "source": [
    "bdict={}"
   ]
  },
  {
   "cell_type": "code",
   "execution_count": 137,
   "metadata": {},
   "outputs": [],
   "source": [
    "bdict[\"name\"] = \"Hira\"\n",
    "bdict[\"Age\"] = 22\n",
    "bdict[\"Contact_no\"]=\"243793021\""
   ]
  },
  {
   "cell_type": "code",
   "execution_count": 138,
   "metadata": {},
   "outputs": [
    {
     "data": {
      "text/plain": [
       "{'name': 'Hira', 'Age': 22, 'Contact_no': '243793021'}"
      ]
     },
     "execution_count": 138,
     "metadata": {},
     "output_type": "execute_result"
    }
   ],
   "source": [
    "bdict"
   ]
  },
  {
   "cell_type": "code",
   "execution_count": 139,
   "metadata": {},
   "outputs": [],
   "source": [
    "#keys()\n",
    "#values()\n",
    "#items()\n"
   ]
  },
  {
   "cell_type": "code",
   "execution_count": 140,
   "metadata": {},
   "outputs": [
    {
     "name": "stdout",
     "output_type": "stream",
     "text": [
      "name\n",
      "Age\n",
      "Contact_no\n"
     ]
    }
   ],
   "source": [
    "for k in bdict.keys():\n",
    "    print(k)"
   ]
  },
  {
   "cell_type": "code",
   "execution_count": 141,
   "metadata": {},
   "outputs": [
    {
     "name": "stdout",
     "output_type": "stream",
     "text": [
      "Hira\n",
      "22\n",
      "243793021\n"
     ]
    }
   ],
   "source": [
    "for k in bdict.values():\n",
    "    print(k)"
   ]
  },
  {
   "cell_type": "code",
   "execution_count": 145,
   "metadata": {},
   "outputs": [
    {
     "name": "stdout",
     "output_type": "stream",
     "text": [
      "name Hira\n",
      "Age 22\n",
      "Contact_no 243793021\n"
     ]
    }
   ],
   "source": [
    "for key, Value in bdict.items():\n",
    "    print(key, Value)"
   ]
  },
  {
   "cell_type": "markdown",
   "metadata": {},
   "source": [
    "# Creating a list of dictionary"
   ]
  },
  {
   "cell_type": "code",
   "execution_count": 146,
   "metadata": {},
   "outputs": [],
   "source": [
    "list1 = [23,45,6,{\"fruit\":\"Apple\",\"Food\":\"biryani\"}]"
   ]
  },
  {
   "cell_type": "code",
   "execution_count": 150,
   "metadata": {},
   "outputs": [
    {
     "data": {
      "text/plain": [
       "'biryani'"
      ]
     },
     "execution_count": 150,
     "metadata": {},
     "output_type": "execute_result"
    }
   ],
   "source": [
    "list1[3][\"Food\"]"
   ]
  },
  {
   "cell_type": "code",
   "execution_count": 1,
   "metadata": {},
   "outputs": [],
   "source": [
    "d ={'names':['Hira','Anum','Ogg','Raima',],'ages':[11,14,15,13]}"
   ]
  },
  {
   "cell_type": "code",
   "execution_count": 2,
   "metadata": {},
   "outputs": [
    {
     "data": {
      "text/plain": [
       "'Ogg'"
      ]
     },
     "execution_count": 2,
     "metadata": {},
     "output_type": "execute_result"
    }
   ],
   "source": [
    "d['names'][2]"
   ]
  },
  {
   "cell_type": "markdown",
   "metadata": {},
   "source": [
    "# Functions"
   ]
  },
  {
   "cell_type": "code",
   "execution_count": 3,
   "metadata": {},
   "outputs": [],
   "source": [
    "# we used function for reusability of code."
   ]
  },
  {
   "cell_type": "code",
   "execution_count": null,
   "metadata": {},
   "outputs": [],
   "source": [
    "a = 12\n",
    "b = 13\n",
    "c = a + b\n",
    "print(c)"
   ]
  },
  {
   "cell_type": "code",
   "execution_count": 4,
   "metadata": {},
   "outputs": [],
   "source": [
    "def  add_Function():\n",
    "    a = 12\n",
    "    b = 13\n",
    "    c = a + b\n",
    "    print(c)"
   ]
  },
  {
   "cell_type": "code",
   "execution_count": 5,
   "metadata": {},
   "outputs": [
    {
     "name": "stdout",
     "output_type": "stream",
     "text": [
      "25\n"
     ]
    }
   ],
   "source": [
    "add_Function()"
   ]
  },
  {
   "cell_type": "code",
   "execution_count": 6,
   "metadata": {},
   "outputs": [],
   "source": [
    "def name_Function():\n",
    "    print(\"I'm Function Baby !\")"
   ]
  },
  {
   "cell_type": "code",
   "execution_count": 7,
   "metadata": {},
   "outputs": [
    {
     "name": "stdout",
     "output_type": "stream",
     "text": [
      "I'm Function Baby !\n"
     ]
    }
   ],
   "source": [
    "name_Function()"
   ]
  },
  {
   "cell_type": "code",
   "execution_count": 8,
   "metadata": {},
   "outputs": [],
   "source": [
    "def mul_function():\n",
    "    a = 12\n",
    "    b = 2\n",
    "    print(a * b)"
   ]
  },
  {
   "cell_type": "code",
   "execution_count": 10,
   "metadata": {},
   "outputs": [
    {
     "name": "stdout",
     "output_type": "stream",
     "text": [
      "24\n"
     ]
    }
   ],
   "source": [
    "mul_function()"
   ]
  },
  {
   "cell_type": "code",
   "execution_count": 11,
   "metadata": {},
   "outputs": [],
   "source": [
    "def greeting(name):\n",
    "    print(f\" you are welcom {name}\")\n",
    "    "
   ]
  },
  {
   "cell_type": "code",
   "execution_count": 12,
   "metadata": {},
   "outputs": [
    {
     "name": "stdout",
     "output_type": "stream",
     "text": [
      " you are welcom anum\n"
     ]
    }
   ],
   "source": [
    "greeting(\"anum\")"
   ]
  },
  {
   "cell_type": "code",
   "execution_count": 15,
   "metadata": {},
   "outputs": [],
   "source": [
    "def greeting(name, name1):\n",
    "    print(f\" {name} you are welcom  by {name1}\")"
   ]
  },
  {
   "cell_type": "code",
   "execution_count": 16,
   "metadata": {},
   "outputs": [
    {
     "name": "stdout",
     "output_type": "stream",
     "text": [
      " anum you are welcom  by hira\n"
     ]
    }
   ],
   "source": [
    "greeting(\"anum\",\"hira\")"
   ]
  },
  {
   "cell_type": "code",
   "execution_count": 17,
   "metadata": {},
   "outputs": [],
   "source": [
    "def sum_fun(a , b):\n",
    "    c =  a + b\n",
    "    print(c)\n",
    "    "
   ]
  },
  {
   "cell_type": "code",
   "execution_count": 18,
   "metadata": {},
   "outputs": [
    {
     "name": "stdout",
     "output_type": "stream",
     "text": [
      "8\n"
     ]
    }
   ],
   "source": [
    "sum_fun(5,3)"
   ]
  },
  {
   "cell_type": "code",
   "execution_count": 23,
   "metadata": {},
   "outputs": [],
   "source": [
    "def giveMeFullName(f_name,m_name, l_name):\n",
    "   # fullname = f_name+m_name+l_name\n",
    "    full_name = f\"Welcom ! {f_name} {m_name} {l_name}\"\n",
    "    print(full_name)\n",
    "    "
   ]
  },
  {
   "cell_type": "code",
   "execution_count": 24,
   "metadata": {},
   "outputs": [
    {
     "name": "stdout",
     "output_type": "stream",
     "text": [
      "Welcom ! Syeda Anum Zakir\n"
     ]
    }
   ],
   "source": [
    "giveMeFullName(\"Syeda\",\"Anum\",\"Zakir\") #positional argument"
   ]
  },
  {
   "cell_type": "code",
   "execution_count": 25,
   "metadata": {},
   "outputs": [
    {
     "name": "stdout",
     "output_type": "stream",
     "text": [
      "Welcom ! syeda anum zakir\n"
     ]
    }
   ],
   "source": [
    "#key word argument\n",
    "giveMeFullName(m_name=\"anum\", f_name = \"syeda\", l_name = \"zakir\")"
   ]
  },
  {
   "cell_type": "code",
   "execution_count": 26,
   "metadata": {},
   "outputs": [],
   "source": [
    "#default parameter .... bech me default values nhe askti"
   ]
  },
  {
   "cell_type": "code",
   "execution_count": 34,
   "metadata": {},
   "outputs": [],
   "source": [
    "def giveMeFullName(f_name, l_name,m_name=\"\"):\n",
    "   # fullname = f_name+m_name+l_name\n",
    "    full_name = f\"Welcom ! {f_name} {m_name} {l_name}\"\n",
    "    print(full_name)\n",
    "    "
   ]
  },
  {
   "cell_type": "code",
   "execution_count": 35,
   "metadata": {},
   "outputs": [
    {
     "name": "stdout",
     "output_type": "stream",
     "text": [
      "Welcom ! hira  ahmed\n"
     ]
    }
   ],
   "source": [
    "giveMeFullName(\"hira\",\"ahmed\")"
   ]
  },
  {
   "cell_type": "code",
   "execution_count": 40,
   "metadata": {},
   "outputs": [],
   "source": [
    "def sub(u,v): #local variable and global variable\n",
    "    w = u -v\n",
    "    return w  # return is the last line of the function , after that line no line will execute\n",
    "#more than one value can return."
   ]
  },
  {
   "cell_type": "code",
   "execution_count": 41,
   "metadata": {},
   "outputs": [],
   "source": [
    "returnValue = sub(9,3)"
   ]
  },
  {
   "cell_type": "code",
   "execution_count": 42,
   "metadata": {},
   "outputs": [
    {
     "name": "stdout",
     "output_type": "stream",
     "text": [
      "6\n"
     ]
    }
   ],
   "source": [
    "print(returnValue)"
   ]
  },
  {
   "cell_type": "code",
   "execution_count": 44,
   "metadata": {},
   "outputs": [
    {
     "name": "stdout",
     "output_type": "stream",
     "text": [
      "10 I'm global variable\n"
     ]
    }
   ],
   "source": [
    "def sub(u,v): #local variable and global variable\n",
    "    global q\n",
    "    q = \"I'm global variable\"\n",
    "    w = u -v\n",
    "    return w\n",
    "print(sub(40,30),q)"
   ]
  },
  {
   "cell_type": "markdown",
   "metadata": {},
   "source": [
    "# args,kwargs"
   ]
  },
  {
   "cell_type": "code",
   "execution_count": 1,
   "metadata": {},
   "outputs": [],
   "source": [
    "def car(model,year):\n",
    "    print(model,year)"
   ]
  },
  {
   "cell_type": "code",
   "execution_count": 3,
   "metadata": {},
   "outputs": [
    {
     "name": "stdout",
     "output_type": "stream",
     "text": [
      "corolla 2019\n"
     ]
    }
   ],
   "source": [
    "car('corolla',2019)"
   ]
  },
  {
   "cell_type": "code",
   "execution_count": 5,
   "metadata": {},
   "outputs": [
    {
     "name": "stdout",
     "output_type": "stream",
     "text": [
      "2019 Toyota\n"
     ]
    }
   ],
   "source": [
    "car(2019,'Toyota')"
   ]
  },
  {
   "cell_type": "code",
   "execution_count": 7,
   "metadata": {},
   "outputs": [
    {
     "name": "stdout",
     "output_type": "stream",
     "text": [
      "Toyota 2019\n"
     ]
    }
   ],
   "source": [
    "car(year=2019,model='Toyota')"
   ]
  },
  {
   "cell_type": "code",
   "execution_count": 9,
   "metadata": {},
   "outputs": [],
   "source": [
    "def name(fname, lname):\n",
    "    print(f'First name :{fname}')\n",
    "    print(f'Last name :{lname}')"
   ]
  },
  {
   "cell_type": "code",
   "execution_count": 10,
   "metadata": {},
   "outputs": [
    {
     "name": "stdout",
     "output_type": "stream",
     "text": [
      "First name :anum\n",
      "Last name :zakir\n"
     ]
    }
   ],
   "source": [
    "name('anum','zakir')"
   ]
  },
  {
   "cell_type": "code",
   "execution_count": 11,
   "metadata": {},
   "outputs": [
    {
     "name": "stdout",
     "output_type": "stream",
     "text": [
      "First name :zakir\n",
      "Last name :anum\n"
     ]
    }
   ],
   "source": [
    "name('zakir','anum')"
   ]
  },
  {
   "cell_type": "code",
   "execution_count": 12,
   "metadata": {},
   "outputs": [
    {
     "name": "stdout",
     "output_type": "stream",
     "text": [
      "First name :anum\n",
      "Last name :zakir\n"
     ]
    }
   ],
   "source": [
    "name(lname='zakir',fname='anum')"
   ]
  },
  {
   "cell_type": "code",
   "execution_count": 23,
   "metadata": {},
   "outputs": [],
   "source": [
    "def name(fname,lname,mname):\n",
    "    print(f'First name :{fname}')\n",
    "    print(f'Middle name :{mname}')\n",
    "    print(f'Last name :{lname}')"
   ]
  },
  {
   "cell_type": "code",
   "execution_count": 24,
   "metadata": {},
   "outputs": [
    {
     "name": "stdout",
     "output_type": "stream",
     "text": [
      "First name :syeda\n",
      "Middle name :anum\n",
      "Last name :zakir\n"
     ]
    }
   ],
   "source": [
    "name('syeda','zakir', mname ='anum')"
   ]
  },
  {
   "cell_type": "markdown",
   "metadata": {},
   "source": [
    "# Arbitary number of argument"
   ]
  },
  {
   "cell_type": "code",
   "execution_count": 25,
   "metadata": {},
   "outputs": [],
   "source": [
    "def pizza(size,flavour,*toppings):\n",
    "    print(size,flavour)\n",
    "    print(toppings)"
   ]
  },
  {
   "cell_type": "code",
   "execution_count": 26,
   "metadata": {},
   "outputs": [
    {
     "name": "stdout",
     "output_type": "stream",
     "text": [
      "large chicken tikka\n",
      "('extra cheese', 'olives')\n"
     ]
    }
   ],
   "source": [
    "pizza('large','chicken tikka','extra cheese','olives')"
   ]
  },
  {
   "cell_type": "code",
   "execution_count": 27,
   "metadata": {},
   "outputs": [],
   "source": [
    "def students(name, fname,batch, *info):\n",
    "    print(f'Student name: {name}')\n",
    "    print(f'Father name: {fname}')\n",
    "    print(f'Batch: {batch}')\n",
    "    print(info)"
   ]
  },
  {
   "cell_type": "code",
   "execution_count": 31,
   "metadata": {},
   "outputs": [
    {
     "name": "stdout",
     "output_type": "stream",
     "text": [
      "Student name: anum\n",
      "Father name: zakir\n",
      "Batch: 2015\n",
      "('Software', 2018, 'Sec A', '3.8 gpa', '5th semester')\n"
     ]
    }
   ],
   "source": [
    "students('anum','zakir',2015,'Software',2018,'Sec A','3.8 gpa','5th semester')"
   ]
  },
  {
   "cell_type": "code",
   "execution_count": 32,
   "metadata": {},
   "outputs": [],
   "source": [
    "def car(make,model,**specs):\n",
    "    print(make,model)\n",
    "    print(specs)"
   ]
  },
  {
   "cell_type": "code",
   "execution_count": 33,
   "metadata": {},
   "outputs": [
    {
     "name": "stdout",
     "output_type": "stream",
     "text": [
      "toyota prius\n",
      "{'transmission': 'Automatic'}\n"
     ]
    }
   ],
   "source": [
    "car('toyota','prius',transmission='Automatic')"
   ]
  },
  {
   "cell_type": "code",
   "execution_count": 34,
   "metadata": {},
   "outputs": [
    {
     "name": "stdout",
     "output_type": "stream",
     "text": [
      "toyota prius\n",
      "{'transmission': 'Automatic', 'power': 'yes'}\n"
     ]
    }
   ],
   "source": [
    "car('toyota','prius',transmission='Automatic',power = 'yes')"
   ]
  },
  {
   "cell_type": "markdown",
   "metadata": {},
   "source": [
    "# Functiona as a variable"
   ]
  },
  {
   "cell_type": "code",
   "execution_count": 51,
   "metadata": {},
   "outputs": [],
   "source": [
    "def add(a,b):\n",
    "    c = a+b\n",
    "    return c"
   ]
  },
  {
   "cell_type": "code",
   "execution_count": 39,
   "metadata": {},
   "outputs": [],
   "source": [
    "def sub(a,b):\n",
    "    c = a -b\n",
    "    return c"
   ]
  },
  {
   "cell_type": "code",
   "execution_count": 46,
   "metadata": {},
   "outputs": [
    {
     "name": "stdout",
     "output_type": "stream",
     "text": [
      "Final Result = 15\n"
     ]
    }
   ],
   "source": [
    "result = add(5,3) + sub(9,2)\n",
    "print(\"Final Result = \"+str(result))"
   ]
  },
  {
   "cell_type": "code",
   "execution_count": 52,
   "metadata": {},
   "outputs": [
    {
     "name": "stdout",
     "output_type": "stream",
     "text": [
      "Final Result = hiraahmed\n"
     ]
    }
   ],
   "source": [
    "result = add('hira','ahmed') \n",
    "print(\"Final Result = \"+result)"
   ]
  },
  {
   "cell_type": "markdown",
   "metadata": {},
   "source": [
    "# While Loop"
   ]
  },
  {
   "cell_type": "code",
   "execution_count": 53,
   "metadata": {},
   "outputs": [
    {
     "name": "stdout",
     "output_type": "stream",
     "text": [
      "0\n",
      "1\n",
      "2\n",
      "3\n",
      "4\n",
      "5\n",
      "6\n",
      "7\n",
      "8\n",
      "9\n"
     ]
    }
   ],
   "source": [
    "for a in range(10):\n",
    "    print(a)"
   ]
  },
  {
   "cell_type": "code",
   "execution_count": 55,
   "metadata": {},
   "outputs": [
    {
     "name": "stdout",
     "output_type": "stream",
     "text": [
      "0\n",
      "1\n",
      "2\n",
      "3\n",
      "4\n",
      "5\n",
      "6\n",
      "7\n",
      "8\n",
      "9\n"
     ]
    }
   ],
   "source": [
    "a = 0\n",
    "while(a < 10):\n",
    "    print(a)\n",
    "    a = a+1"
   ]
  },
  {
   "cell_type": "code",
   "execution_count": 57,
   "metadata": {},
   "outputs": [
    {
     "name": "stdout",
     "output_type": "stream",
     "text": [
      "Enter a Toppingabc\n",
      "Enter a Toppingxyz\n",
      "Enter a Toppingijk\n",
      "Enter a Toppingopq\n",
      "Enter a Toppingwxy\n",
      "['abc', 'xyz', 'ijk', 'opq', 'wxy']\n"
     ]
    }
   ],
   "source": [
    "topping= []\n",
    "for a in range(5):\n",
    "    toppings = input('Enter a Topping')\n",
    "    topping.append[toppings)\n",
    "print(topping)"
   ]
  },
  {
   "cell_type": "code",
   "execution_count": 12,
   "metadata": {},
   "outputs": [
    {
     "name": "stdout",
     "output_type": "stream",
     "text": [
      "Enter a Toppinggvdhdeh\n",
      "Enter a Toppingebegywye'\n",
      "Enter a Toppingevtwfq\n",
      "Enter a Toppingq\n",
      "['gvdhdeh', \"ebegywye'\", 'evtwfq']\n"
     ]
    }
   ],
   "source": [
    "topping=[]\n",
    "flag = True\n",
    "while flag:\n",
    "    toppings = input('Enter a Topping')\n",
    "    if toppings == 'q':\n",
    "        flag = False \n",
    "    else: \n",
    "        topping.append(toppings)\n",
    "        \n",
    "print(topping) \n",
    "    "
   ]
  },
  {
   "cell_type": "code",
   "execution_count": null,
   "metadata": {},
   "outputs": [
    {
     "name": "stdout",
     "output_type": "stream",
     "text": [
      "Pizza Order\n",
      "\n",
      "\n",
      "['large', 'medium', 'small', 'jumpoo']\n",
      "Select Size of Your Pizzalarge\n",
      "large\n",
      "['Fjita', 'Tikka', 'Mexican']\n"
     ]
    }
   ],
   "source": [
    "availableFlaovours = ['Fjita','Tikka','Mexican']\n",
    "availableSize =[\"large\",\"medium\",\"small\",\"jumpoo\"]\n",
    "availavleToppings = [\"Olives\",\"chesse\",\"Hurbs\"]\n",
    "print(\"Pizza Order\")\n",
    "print()\n",
    "print()\n",
    "flag = True\n",
    "while flag :\n",
    "    print(availableSize )\n",
    "    size = input(\"Select Size of Your Pizza\")\n",
    "    print(size)\n",
    "    print(availableFlaovours)\n",
    "    flavour = input(\"In which flavour you want to order pizza\");\n",
    "    print(flavour)\n",
    "   \n",
    "        \n"
   ]
  },
  {
   "cell_type": "code",
   "execution_count": null,
   "metadata": {},
   "outputs": [],
   "source": []
  }
 ],
 "metadata": {
  "kernelspec": {
   "display_name": "Python 3",
   "language": "python",
   "name": "python3"
  }
 },
 "nbformat": 4,
 "nbformat_minor": 2
}
